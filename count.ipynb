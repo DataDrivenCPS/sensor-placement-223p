{
 "cells": [
  {
   "cell_type": "code",
   "execution_count": 55,
   "metadata": {},
   "outputs": [],
   "source": [
    "import rdflib\n"
   ]
  },
  {
   "cell_type": "code",
   "execution_count": 56,
   "metadata": {},
   "outputs": [
    {
     "data": {
      "text/plain": [
       "<Graph identifier=N13822727898c430dbce8d8e0188024f2 (<class 'rdflib.graph.Graph'>)>"
      ]
     },
     "execution_count": 56,
     "metadata": {},
     "output_type": "execute_result"
    }
   ],
   "source": [
    "graph = rdflib.Graph()\n",
    "graph.parse(\"./models/desal.ttl\", format=\"ttl\")"
   ]
  },
  {
   "cell_type": "code",
   "execution_count": 57,
   "metadata": {},
   "outputs": [
    {
     "name": "stdout",
     "output_type": "stream",
     "text": [
      "Number of triples: 1377\n"
     ]
    }
   ],
   "source": [
    "print(f\"Number of triples: {len(graph)}\")"
   ]
  },
  {
   "cell_type": "code",
   "execution_count": 58,
   "metadata": {},
   "outputs": [
    {
     "name": "stdout",
     "output_type": "stream",
     "text": [
      "Number of CP: 82\n"
     ]
    }
   ],
   "source": [
    "query=\"\"\"\n",
    "    PREFIX s223: <http://data.ashrae.org/standard223#>\n",
    "    SELECT ?from ?conn ?to WHERE {\n",
    "        ?to s223:hasConnectionPoint ?from .\n",
    "    }\"\"\"\n",
    "\n",
    "result = graph.query(query)\n",
    "print(f\"Number of CP: {len(result)}\")\n"
   ]
  },
  {
   "cell_type": "code",
   "execution_count": 59,
   "metadata": {},
   "outputs": [
    {
     "name": "stdout",
     "output_type": "stream",
     "text": [
      "Number of pipes: 41\n"
     ]
    }
   ],
   "source": [
    "query=\"\"\"\n",
    "PREFIX s223: <http://data.ashrae.org/standard223#>\n",
    "SELECT (COUNT(?s) as ?Pipes)\n",
    "WHERE {\n",
    "  ?s ?p s223:Pipe .\n",
    "}\n",
    "\"\"\"\n",
    "\n",
    "result = graph.query(query)\n",
    "for row in result:\n",
    "    print(f\"Number of pipes: {row.Pipes}\")"
   ]
  }
 ],
 "metadata": {
  "kernelspec": {
   "display_name": "bldmotif2",
   "language": "python",
   "name": "python3"
  },
  "language_info": {
   "codemirror_mode": {
    "name": "ipython",
    "version": 3
   },
   "file_extension": ".py",
   "mimetype": "text/x-python",
   "name": "python",
   "nbconvert_exporter": "python",
   "pygments_lexer": "ipython3",
   "version": "3.11.0"
  }
 },
 "nbformat": 4,
 "nbformat_minor": 2
}
